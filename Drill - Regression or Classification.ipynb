{
 "cells": [
  {
   "cell_type": "markdown",
   "metadata": {},
   "source": [
    "For each of the following situations, decide if you would model using a regression or classification model. Discuss your reasoning with your mentor next time you meet.\n",
    "\n",
    "    The amount a person will spend on a given site in the next 24 months.\n",
    "    Regression\n",
    "    What color car someone is going to buy.\n",
    "    Categorical\n",
    "    How many children a family will have.\n",
    "    Regression\n",
    "    If someone will sign up for a service.\n",
    "    Categorical\n",
    "    The number of times someone will get sick in a year.\n",
    "    Regression\n",
    "    The probability someone will get sick in the next month.\n",
    "    Regression\n",
    "    Which medicine will work best for a given patient.\n",
    "    Categorical\n"
   ]
  },
  {
   "cell_type": "code",
   "execution_count": null,
   "metadata": {},
   "outputs": [],
   "source": []
  }
 ],
 "metadata": {
  "kernelspec": {
   "display_name": "Python 3",
   "language": "python",
   "name": "python3"
  },
  "language_info": {
   "codemirror_mode": {
    "name": "ipython",
    "version": 3
   },
   "file_extension": ".py",
   "mimetype": "text/x-python",
   "name": "python",
   "nbconvert_exporter": "python",
   "pygments_lexer": "ipython3",
   "version": "3.6.5"
  }
 },
 "nbformat": 4,
 "nbformat_minor": 2
}
