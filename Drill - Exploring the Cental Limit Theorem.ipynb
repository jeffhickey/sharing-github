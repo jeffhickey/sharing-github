{
 "cells": [
  {
   "cell_type": "code",
   "execution_count": 72,
   "metadata": {},
   "outputs": [],
   "source": [
    "import numpy as np\n",
    "import pandas as pd\n",
    "import scipy\n",
    "import matplotlib.pyplot as plt\n",
    "%matplotlib inline"
   ]
  },
  {
   "cell_type": "code",
   "execution_count": 73,
   "metadata": {},
   "outputs": [
    {
     "data": {
      "image/png": "[encoded data removed]",
      "text/plain": [
       "<Figure size 432x288 with 1 Axes>"
      ]
     },
     "metadata": {},
     "output_type": "display_data"
    }
   ],
   "source": [
    "pop1 = np.random.binomial(10, .2, 10000)\n",
    "pop2 = np.random.binomial(10, .5, 10000)\n",
    "\n",
    "plt.hist(pop1, alpha=0.5, label='Population 1') \n",
    "plt.hist(pop2, alpha=0.5, label='Population 2') \n",
    "plt.legend(loc='upper right') \n",
    "plt.show()"
   ]
  },
  {
   "cell_type": "code",
   "execution_count": 74,
   "metadata": {},
   "outputs": [
    {
     "data": {
      "image/png": "[encoded data removed]",
      "text/plain": [
       "<Figure size 432x288 with 1 Axes>"
      ]
     },
     "metadata": {},
     "output_type": "display_data"
    }
   ],
   "source": [
    "sample1 = np.random.choice(pop1, 100, replace=True)\n",
    "sample2 = np.random.choice(pop2, 100, replace=True)\n",
    "\n",
    "plt.hist(sample1, alpha=0.5, label='sample 1') \n",
    "plt.hist(sample2, alpha=0.5, label='sample 2') \n",
    "plt.legend(loc='upper right') \n",
    "plt.show()"
   ]
  },
  {
   "cell_type": "code",
   "execution_count": 75,
   "metadata": {},
   "outputs": [
    {
     "name": "stdout",
     "output_type": "stream",
     "text": [
      "2.07\n",
      "5.04\n",
      "1.4646159906268945\n",
      "1.4347125147568764\n",
      "2.97\n"
     ]
    }
   ],
   "source": [
    "print(sample1.mean())\n",
    "print(sample2.mean())\n",
    "print(sample1.std())\n",
    "print(sample2.std())\n",
    "\n",
    "# Compute the difference between the two sample means.\n",
    "diff=sample2.mean( ) -sample1.mean()\n",
    "print(diff)"
   ]
  },
  {
   "cell_type": "markdown",
   "metadata": {},
   "source": [
    "## Problem 1"
   ]
  },
  {
   "cell_type": "markdown",
   "metadata": {},
   "source": [
    "By increasing sample size to 1,000 I expect the standard deviations for each sample for each given population to decrease and for the data to appear more uniform. Conversely, when decreasing sample size to just 20 I expect a much larger standard deviation and a loss of clarity between the 2 populations. The mean for 1,000 size samples should be fairly close to the true value, whereas I expect the means for the small sample size to vary wildly. "
   ]
  },
  {
   "cell_type": "code",
   "execution_count": 76,
   "metadata": {},
   "outputs": [
    {
     "data": {
      "image/png": "[encoded data removed]",
      "text/plain": [
       "<Figure size 432x288 with 1 Axes>"
      ]
     },
     "metadata": {},
     "output_type": "display_data"
    }
   ],
   "source": [
    "sample3 = np.random.choice(pop1, 1000, replace=True)\n",
    "sample4 = np.random.choice(pop2, 1000, replace=True)\n",
    "\n",
    "plt.hist(sample3, alpha=0.5, label='sample 3') \n",
    "plt.hist(sample4, alpha=0.5, label='sample 4') \n",
    "plt.legend(loc='upper right') \n",
    "plt.show()"
   ]
  },
  {
   "cell_type": "code",
   "execution_count": 77,
   "metadata": {},
   "outputs": [
    {
     "name": "stdout",
     "output_type": "stream",
     "text": [
      "2.092\n",
      "5.085\n",
      "1.3074922561912175\n",
      "1.6111409001077466\n",
      "2.993\n"
     ]
    }
   ],
   "source": [
    "print(sample3.mean())\n",
    "print(sample4.mean())\n",
    "print(sample3.std())\n",
    "print(sample4.std())\n",
    "\n",
    "# Compute the difference between the two sample means.\n",
    "diff=sample4.mean( ) -sample3.mean()\n",
    "print(diff)"
   ]
  },
  {
   "cell_type": "code",
   "execution_count": 78,
   "metadata": {},
   "outputs": [
    {
     "data": {
      "image/png": "[encoded data removed]",
      "text/plain": [
       "<Figure size 432x288 with 1 Axes>"
      ]
     },
     "metadata": {},
     "output_type": "display_data"
    }
   ],
   "source": [
    "sample5 = np.random.choice(pop1, 20, replace=True)\n",
    "sample6 = np.random.choice(pop2, 20, replace=True)\n",
    "\n",
    "plt.hist(sample5, alpha=0.5, label='sample 5') \n",
    "plt.hist(sample6, alpha=0.5, label='sample 6') \n",
    "plt.legend(loc='upper right') \n",
    "plt.show()"
   ]
  },
  {
   "cell_type": "code",
   "execution_count": 79,
   "metadata": {},
   "outputs": [
    {
     "name": "stdout",
     "output_type": "stream",
     "text": [
      "1.6\n",
      "5.1\n",
      "0.9695359714832659\n",
      "1.044030650891055\n",
      "3.4999999999999996\n"
     ]
    }
   ],
   "source": [
    "print(sample5.mean())\n",
    "print(sample6.mean())\n",
    "print(sample5.std())\n",
    "print(sample6.std())\n",
    "\n",
    "# Compute the difference between the two sample means.\n",
    "diff=sample6.mean( ) -sample5.mean()\n",
    "print(diff)"
   ]
  },
  {
   "cell_type": "code",
   "execution_count": 80,
   "metadata": {},
   "outputs": [
    {
     "name": "stdout",
     "output_type": "stream",
     "text": [
      "Sample 1 (100) - Mean: 2.07 Std: 1.4646159906268945\n",
      "Sample 2 (100) - Mean: 5.04 Std: 1.4347125147568764\n",
      "Sample 3(1000) - Mean: 2.092 Std: 1.3074922561912175\n",
      "Sample 4(1000) - Mean: 5.085 Std: 1.6111409001077466\n",
      "Sample 5 (20)  - Mean: 1.6 Std: 0.9695359714832659\n",
      "Sample 6 (20)  - Mean: 5.1 Std: 1.044030650891055\n"
     ]
    }
   ],
   "source": [
    "print(\"Sample 1 (100) - Mean: \" + str(sample1.mean()) + \" Std: \" + str(sample1.std()))\n",
    "print(\"Sample 2 (100) - Mean: \" + str(sample2.mean()) + \" Std: \" + str(sample2.std()))\n",
    "print(\"Sample 3(1000) - Mean: \" + str(sample3.mean()) + \" Std: \" + str(sample3.std()))\n",
    "print(\"Sample 4(1000) - Mean: \" + str(sample4.mean()) + \" Std: \" + str(sample4.std()))\n",
    "print(\"Sample 5 (20)  - Mean: \" + str(sample5.mean()) + \" Std: \" + str(sample5.std()))\n",
    "print(\"Sample 6 (20)  - Mean: \" + str(sample6.mean()) + \" Std: \" + str(sample6.std()))"
   ]
  },
  {
   "cell_type": "markdown",
   "metadata": {},
   "source": [
    "One surprising result is that the standard deviations for the 20 count samples are fairly close to the std dev. for the 1,000 sized population. I would expect these standard deviations to be the highest but apparently my intuition is off or I'm getting interesting random samples. The 20 size samples are the ones that varpy from the mean the most which is what I did expect."
   ]
  },
  {
   "cell_type": "markdown",
   "metadata": {},
   "source": [
    "## Problem 2"
   ]
  },
  {
   "cell_type": "markdown",
   "metadata": {},
   "source": [
    "### pop1 to 0.3"
   ]
  },
  {
   "cell_type": "code",
   "execution_count": 81,
   "metadata": {},
   "outputs": [
    {
     "name": "stdout",
     "output_type": "stream",
     "text": [
      "Ttest_indResult(statistic=9.042867300234912, pvalue=1.4327035437724322e-16)\n"
     ]
    }
   ],
   "source": [
    "pop1 = np.random.binomial(10, .3, 10000)\n",
    "pop2 = np.random.binomial(10, .5, 10000)\n",
    "\n",
    "sample1 = np.random.choice(pop1, 100, replace=True)\n",
    "sample2 = np.random.choice(pop2, 100, replace=True)\n",
    "\n",
    "from scipy.stats import ttest_ind\n",
    "print(ttest_ind(sample2, sample1, equal_var=False))"
   ]
  },
  {
   "cell_type": "markdown",
   "metadata": {},
   "source": [
    "### pop1 to 0.4"
   ]
  },
  {
   "cell_type": "code",
   "execution_count": 82,
   "metadata": {},
   "outputs": [
    {
     "name": "stdout",
     "output_type": "stream",
     "text": [
      "Ttest_indResult(statistic=5.718855027764287, pvalue=4.057455846837846e-08)\n"
     ]
    }
   ],
   "source": [
    "pop1 = np.random.binomial(10, .4, 10000)\n",
    "pop2 = np.random.binomial(10, .5, 10000)\n",
    "\n",
    "sample1 = np.random.choice(pop1, 100, replace=True)\n",
    "sample2 = np.random.choice(pop2, 100, replace=True)\n",
    "\n",
    "from scipy.stats import ttest_ind\n",
    "print(ttest_ind(sample2, sample1, equal_var=False))"
   ]
  },
  {
   "cell_type": "markdown",
   "metadata": {},
   "source": [
    "When increasing the p value for the first population so it's closer to pop2 the T-value goes down while the pvalue does up many orders of magnitude."
   ]
  },
  {
   "cell_type": "markdown",
   "metadata": {},
   "source": [
    "## Problem 3"
   ]
  },
  {
   "cell_type": "code",
   "execution_count": 85,
   "metadata": {},
   "outputs": [
    {
     "name": "stdout",
     "output_type": "stream",
     "text": [
      "Ttest_indResult(statistic=0.6057817886941317, pvalue=0.5455672593252745)\n"
     ]
    }
   ],
   "source": [
    "pop1 = np.random.normal(0, 3, 10000)\n",
    "pop2 = np.random.normal(0, 5, 10000)\n",
    "\n",
    "sample1 = np.random.choice(pop1, 100, replace=True)\n",
    "sample2 = np.random.choice(pop2, 100, replace=True)\n",
    "\n",
    "from scipy.stats import ttest_ind\n",
    "print(ttest_ind(sample2, sample1, equal_var=False))"
   ]
  },
  {
   "cell_type": "code",
   "execution_count": 86,
   "metadata": {},
   "outputs": [
    {
     "name": "stdout",
     "output_type": "stream",
     "text": [
      "Ttest_indResult(statistic=1.0208537823833057, pvalue=0.30858922484559653)\n"
     ]
    }
   ],
   "source": [
    "pop1 = np.random.normal(0, 4, 10000)\n",
    "pop2 = np.random.normal(0, 5, 10000)\n",
    "\n",
    "sample1 = np.random.choice(pop1, 100, replace=True)\n",
    "sample2 = np.random.choice(pop2, 100, replace=True)\n",
    "\n",
    "from scipy.stats import ttest_ind\n",
    "print(ttest_ind(sample2, sample1, equal_var=False))"
   ]
  },
  {
   "cell_type": "markdown",
   "metadata": {},
   "source": [
    "Yes, the sample means still accurately represent the population values."
   ]
  },
  {
   "cell_type": "code",
   "execution_count": null,
   "metadata": {},
   "outputs": [],
   "source": []
  }
 ],
 "metadata": {
  "kernelspec": {
   "display_name": "Python 3",
   "language": "python",
   "name": "python3"
  },
  "language_info": {
   "codemirror_mode": {
    "name": "ipython",
    "version": 3
   },
   "file_extension": ".py",
   "mimetype": "text/x-python",
   "name": "python",
   "nbconvert_exporter": "python",
   "pygments_lexer": "ipython3",
   "version": "3.6.5"
  }
 },
 "nbformat": 4,
 "nbformat_minor": 2
}
