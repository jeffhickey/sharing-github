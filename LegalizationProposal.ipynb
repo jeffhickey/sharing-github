{
 "cells": [
  {
   "cell_type": "markdown",
   "metadata": {},
   "source": [
    "# The Research Proposal"
   ]
  },
  {
   "cell_type": "markdown",
   "metadata": {},
   "source": [
    "# The Problem"
   ]
  },
  {
   "cell_type": "markdown",
   "metadata": {},
   "source": [
    "Colorado became the first U.S. State to legalize the cultivation and sale of Marijuana, effective as of January 1st, 2014. Many detractors argued that 'legal' dispensaries would lead to an increase in crime, including violent crime and therefore many cities and counties within Colorado banned dispensaries within their given municipal boundaries. What we are looking to determine is whether Marijuana sales within a municipality lead to an increase in crime that wouldn't be expected otherwise. To do this we need a population that we can divide into 2 groups, designed to be as randomn as possible."
   ]
  },
  {
   "cell_type": "markdown",
   "metadata": {},
   "source": [
    "# The Potential Solution - Hypothesis"
   ]
  },
  {
   "cell_type": "markdown",
   "metadata": {},
   "source": [
    "My hypothesis is that cities and counties that allow the cultivation and sale of Marijuana do not experience a higher rate of crime than cities and counties that have banned Marijuana. "
   ]
  },
  {
   "cell_type": "markdown",
   "metadata": {},
   "source": [
    "# The Method of Testing the Solution"
   ]
  },
  {
   "cell_type": "markdown",
   "metadata": {},
   "source": [
    "Our research method will be performing A/B testing where we compare the crime rates of cites/counties that have allowed dispesaries both before and after legalization, against cities/counties that decided to ban dispensaries, and determine if areas that have allowed Marijuana sales have experienced a statistically significant increase in crime against the control group. Cities that have not allowed dispensaries will be the control group, and the null hypothesis is that the legal sale of Marijuana DOES lead to an increase in the crime rate. "
   ]
  },
  {
   "cell_type": "markdown",
   "metadata": {},
   "source": [
    "Our research method will be performing A/B testing where we can compare the crime rate betveen 2 identical groups, or realisitically two groups that are as identical as possible from where this experiment could be feasibily conducted. The ideal situation would be two cities that are as alike as possible, demographics, geographically, politically, and most importantly crime rate. Being within the same state is recommended as to ensure all other laws are the same for both groups, for example access to firearms. If possible the cities should not be close enough distance to allow populations to easily travel back in forth without air travel, as air travel between 2 cities does not allow easy or legal transport of significant amounts of Marijuana. The city that does not allow Marijuana sales will be the control group, which will be chosen at random between the 2."
   ]
  },
  {
   "cell_type": "markdown",
   "metadata": {},
   "source": [
    "The variable of interest will be the per-capita crime rate. The secondary variable of interest will be the per-capita rate of violent crime."
   ]
  },
  {
   "cell_type": "markdown",
   "metadata": {},
   "source": [
    "The data needed is crime rates for each muninicipality in Colorado, segregated into 2 distinct groups based off of their decision to allow Marijuana sales. Crime rates are available, as is whether a community decided to allow Marijuana sales. The data needed is the combination of two available data sets to create one which is not.`b"
   ]
  },
  {
   "cell_type": "markdown",
   "metadata": {},
   "source": [
    "To determine whether to accept or reject the null hypothesis a t-test will be conducted with a 95% confidence interval. If the p-value is more than 0.05 then we will not reject the null hypothesis."
   ]
  },
  {
   "cell_type": "markdown",
   "metadata": {},
   "source": [
    "## Rollout"
   ]
  },
  {
   "cell_type": "markdown",
   "metadata": {},
   "source": [
    "For our similar cities, absolutely nothing should be changed but legal access to buy (and cultivate) Marijuana. On the day of legalization the entire population should have easy access to Marijuana at affordable prices, which at a bare minimum should be no more than the street price. There will need to be a significant inventory as well as the full variety of Marijuana products. "
   ]
  },
  {
   "cell_type": "markdown",
   "metadata": {},
   "source": [
    "Crime enforcement must not change in any way for either city, other than the city chosen for legalization no longer criminalizig Marijuana. Crime statistics should be kept as they already have been, but for the control city I would request that crimes related to only Marijuana be put in their own category as it may logically or politcially make sense to exclude these statistics."
   ]
  },
  {
   "cell_type": "code",
   "execution_count": null,
   "metadata": {},
   "outputs": [],
   "source": []
  }
 ],
 "metadata": {
  "kernelspec": {
   "display_name": "Python 3",
   "language": "python",
   "name": "python3"
  },
  "language_info": {
   "codemirror_mode": {
    "name": "ipython",
    "version": 3
   },
   "file_extension": ".py",
   "mimetype": "text/x-python",
   "name": "python",
   "nbconvert_exporter": "python",
   "pygments_lexer": "ipython3",
   "version": "3.6.5"
  }
 },
 "nbformat": 4,
 "nbformat_minor": 2
}
