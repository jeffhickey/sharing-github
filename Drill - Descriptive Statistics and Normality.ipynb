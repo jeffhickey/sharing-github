{
 "cells": [
  {
   "cell_type": "markdown",
   "metadata": {},
   "source": [
    "# Problem 1"
   ]
  },
  {
   "cell_type": "markdown",
   "metadata": {},
   "source": [
    "## Dist 1"
   ]
  },
  {
   "cell_type": "code",
   "execution_count": 77,
   "metadata": {},
   "outputs": [],
   "source": [
    "import numpy as np\n",
    "import matplotlib.pyplot as plt"
   ]
  },
  {
   "cell_type": "code",
   "execution_count": 78,
   "metadata": {},
   "outputs": [
    {
     "name": "stdout",
     "output_type": "stream",
     "text": [
      "99.98706473793794 0.5066747142354134\n"
     ]
    }
   ],
   "source": [
    "norm = np.random.normal(100, 0.5, 100)\n",
    "mean = np.mean(norm)\n",
    "sd = np.std(norm)\n",
    "print(mean, sd)"
   ]
  },
  {
   "cell_type": "code",
   "execution_count": 79,
   "metadata": {},
   "outputs": [
    {
     "data": {
      "text/plain": [
       "<matplotlib.lines.Line2D at 0x118021080>"
      ]
     },
     "execution_count": 79,
     "metadata": {},
     "output_type": "execute_result"
    },
    {
     "data": {
      "image/png": "[encoded data removed]",
      "text/plain": [
       "<Figure size 432x288 with 1 Axes>"
      ]
     },
     "metadata": {},
     "output_type": "display_data"
    }
   ],
   "source": [
    "plt.hist(norm)\n",
    "plt.axvline(x = mean, color='green')\n",
    "plt.axvline(x = sd + mean, color='purple')\n",
    "plt.axvline(x = mean - sd, color='purple')"
   ]
  },
  {
   "cell_type": "markdown",
   "metadata": {},
   "source": [
    "*Accidently ran 1000 instead of 100 at first:* Using the normal distribution the descriptive statistics were as expected. Both the mean and std vary slightly but this is reflected in the graph and in its entirity it appears as expected. \n",
    "*After correcting to 100 datapoints:* This one is not nearly as neat as the sample with an order of magnitude more points. It is making me reconsider that many of the distributions I had may be normal, but without enough data they looked.. abnormal."
   ]
  },
  {
   "cell_type": "markdown",
   "metadata": {},
   "source": [
    "## Dist 2"
   ]
  },
  {
   "cell_type": "code",
   "execution_count": 80,
   "metadata": {},
   "outputs": [
    {
     "name": "stdout",
     "output_type": "stream",
     "text": [
      "0.2813922852178988 0.20303194961089585\n"
     ]
    }
   ],
   "source": [
    "beta = np.random.beta(1, 3, 100)\n",
    "betamean = np.mean(beta)\n",
    "betasd = np.std(beta)\n",
    "print(betamean, betasd)"
   ]
  },
  {
   "cell_type": "code",
   "execution_count": 81,
   "metadata": {},
   "outputs": [
    {
     "data": {
      "text/plain": [
       "<matplotlib.lines.Line2D at 0x11818a3c8>"
      ]
     },
     "execution_count": 81,
     "metadata": {},
     "output_type": "execute_result"
    },
    {
     "data": {
      "image/png": "[encoded data removed]",
      "text/plain": [
       "<Figure size 432x288 with 1 Axes>"
      ]
     },
     "metadata": {},
     "output_type": "display_data"
    }
   ],
   "source": [
    "plt.hist(beta)\n",
    "plt.axvline(x = betamean, color='green')\n",
    "plt.axvline(x = betasd + betamean, color='purple')\n",
    "plt.axvline(x = betamean - betasd, color='purple')"
   ]
  },
  {
   "cell_type": "markdown",
   "metadata": {},
   "source": [
    "For this one the mean and standard deviations really don't tell anything significant about the distribution. I imagine this dataset would require a transformation to draw any useful conclusions."
   ]
  },
  {
   "cell_type": "markdown",
   "metadata": {},
   "source": [
    "## Dist 3"
   ]
  },
  {
   "cell_type": "code",
   "execution_count": 84,
   "metadata": {},
   "outputs": [
    {
     "name": "stdout",
     "output_type": "stream",
     "text": [
      "2.4955894528948046 4.087091972529361\n"
     ]
    }
   ],
   "source": [
    "gumbel = np.random.gumbel(1, 3, 100)\n",
    "gummean = np.mean(gumbel)\n",
    "gumsd = np.std(gumbel)\n",
    "print(gummean, gumsd)"
   ]
  },
  {
   "cell_type": "code",
   "execution_count": 85,
   "metadata": {},
   "outputs": [
    {
     "data": {
      "text/plain": [
       "<matplotlib.lines.Line2D at 0x11833d780>"
      ]
     },
     "execution_count": 85,
     "metadata": {},
     "output_type": "execute_result"
    },
    {
     "data": {
      "image/png": "[encoded data removed]",
      "text/plain": [
       "<Figure size 432x288 with 1 Axes>"
      ]
     },
     "metadata": {},
     "output_type": "display_data"
    }
   ],
   "source": [
    "plt.hist(gumbel)\n",
    "plt.axvline(x = gummean, color='green')\n",
    "plt.axvline(x = gumsd + gummean, color='purple')\n",
    "plt.axvline(x = gummean - gumsd, color='purple')"
   ]
  },
  {
   "cell_type": "markdown",
   "metadata": {},
   "source": [
    "The biggest issue with this distribution is that the standard deviation gives no insight on the tail, how far some values go well beyond the standard deviation. It still gives a decent idea of the distribution but a good visualization makes a big difference."
   ]
  },
  {
   "cell_type": "markdown",
   "metadata": {},
   "source": [
    "## Dist 4"
   ]
  },
  {
   "cell_type": "code",
   "execution_count": 86,
   "metadata": {},
   "outputs": [
    {
     "name": "stdout",
     "output_type": "stream",
     "text": [
      "0.27504557443435806 0.2822158695721921\n"
     ]
    }
   ],
   "source": [
    "power = np.random.power(.4, 100)\n",
    "powermean = np.mean(power)\n",
    "powersd = np.std(power)\n",
    "print(powermean, powersd)"
   ]
  },
  {
   "cell_type": "code",
   "execution_count": 87,
   "metadata": {},
   "outputs": [
    {
     "data": {
      "text/plain": [
       "<matplotlib.lines.Line2D at 0x118414278>"
      ]
     },
     "execution_count": 87,
     "metadata": {},
     "output_type": "execute_result"
    },
    {
     "data": {
      "image/png": "[encoded data removed]",
      "text/plain": [
       "<Figure size 432x288 with 1 Axes>"
      ]
     },
     "metadata": {},
     "output_type": "display_data"
    }
   ],
   "source": [
    "plt.hist(power)\n",
    "plt.axvline(x = powermean, color='green')\n",
    "plt.axvline(x = powersd + powermean, color='purple')\n",
    "plt.axvline(x = powermean - powersd, color='purple')"
   ]
  },
  {
   "cell_type": "markdown",
   "metadata": {},
   "source": [
    "Standard deviation and mean are mostly useless here. I have no insight on this data. By looking at the histogram I am guessing that the limit as x approaches 0 is infinite, and that as x approches infinity the value approaches 0. I'm not sure if more samples would help or just a different visualization."
   ]
  },
  {
   "cell_type": "markdown",
   "metadata": {},
   "source": [
    "## Dist 5"
   ]
  },
  {
   "cell_type": "code",
   "execution_count": 88,
   "metadata": {},
   "outputs": [
    {
     "name": "stdout",
     "output_type": "stream",
     "text": [
      "0.008796835772002127 0.008569661797917318\n"
     ]
    }
   ],
   "source": [
    "pareto = np.random.pareto(100, 100)\n",
    "paretomean = np.mean(pareto)\n",
    "paretosd = np.std(pareto)\n",
    "print(paretomean, paretosd)"
   ]
  },
  {
   "cell_type": "code",
   "execution_count": 89,
   "metadata": {},
   "outputs": [
    {
     "data": {
      "text/plain": [
       "<matplotlib.lines.Line2D at 0x1184ef080>"
      ]
     },
     "execution_count": 89,
     "metadata": {},
     "output_type": "execute_result"
    },
    {
     "data": {
      "image/png": "[encoded data removed]",
      "text/plain": [
       "<Figure size 432x288 with 1 Axes>"
      ]
     },
     "metadata": {},
     "output_type": "display_data"
    }
   ],
   "source": [
    "plt.hist(pareto)\n",
    "plt.axvline(x = paretomean, color='green')\n",
    "plt.axvline(x = paretosd + paretomean, color='purple')\n",
    "plt.axvline(x = paretomean - paretosd, color='purple')"
   ]
  },
  {
   "cell_type": "markdown",
   "metadata": {},
   "source": [
    "This one has similar issues, seems to be a less extreme version of the power distribution. Needs further investigation"
   ]
  },
  {
   "cell_type": "markdown",
   "metadata": {},
   "source": [
    "## Dist 6"
   ]
  },
  {
   "cell_type": "code",
   "execution_count": 90,
   "metadata": {},
   "outputs": [
    {
     "name": "stdout",
     "output_type": "stream",
     "text": [
      "-10.22345139780794 183.39231783497806\n"
     ]
    }
   ],
   "source": [
    "log = np.random.logistic(0, 100, 100)\n",
    "logmean = np.mean(log)\n",
    "logsd = np.std(log)\n",
    "print(logmean, logsd)"
   ]
  },
  {
   "cell_type": "code",
   "execution_count": 91,
   "metadata": {},
   "outputs": [
    {
     "data": {
      "text/plain": [
       "<matplotlib.lines.Line2D at 0x1185c9c18>"
      ]
     },
     "execution_count": 91,
     "metadata": {},
     "output_type": "execute_result"
    },
    {
     "data": {
      "image/png": "[encoded data removed]",
      "text/plain": [
       "<Figure size 432x288 with 1 Axes>"
      ]
     },
     "metadata": {},
     "output_type": "display_data"
    }
   ],
   "source": [
    "plt.hist(log)\n",
    "plt.axvline(x = logmean, color='green')\n",
    "plt.axvline(x = logsd + paretomean, color='purple')\n",
    "plt.axvline(x = logmean - logsd, color='purple')"
   ]
  },
  {
   "cell_type": "markdown",
   "metadata": {},
   "source": [
    "This one is interesting, it appears that it could be a normal distribution but there appears to be a tail at the low end, and a spike at the upper limit. I'd love to see this one with more samples.. "
   ]
  },
  {
   "cell_type": "markdown",
   "metadata": {},
   "source": [
    "Overall it seems that standard deviation and mean are great statistics for many data sets - and terrible for others. Granted I was generally picking names I've never heard of so they may be more real in practice, personally I'm unsure, but nonetheless many of my graphs needed much more analysis to determine how the data really fits. "
   ]
  },
  {
   "cell_type": "markdown",
   "metadata": {},
   "source": [
    "## Additionally"
   ]
  },
  {
   "cell_type": "code",
   "execution_count": 92,
   "metadata": {},
   "outputs": [
    {
     "name": "stdout",
     "output_type": "stream",
     "text": [
      "4.969534671698048 0.5027870640578532\n"
     ]
    }
   ],
   "source": [
    "norm1 = np.random.normal(5, 0.5, 100)\n",
    "mean1 = np.mean(norm1)\n",
    "sd1 = np.std(norm1)\n",
    "print(mean1, sd1)"
   ]
  },
  {
   "cell_type": "code",
   "execution_count": 94,
   "metadata": {},
   "outputs": [
    {
     "data": {
      "text/plain": [
       "<matplotlib.lines.Line2D at 0x118765f60>"
      ]
     },
     "execution_count": 94,
     "metadata": {},
     "output_type": "execute_result"
    },
    {
     "data": {
      "image/png": "[encoded data removed]",
      "text/plain": [
       "<Figure size 432x288 with 1 Axes>"
      ]
     },
     "metadata": {},
     "output_type": "display_data"
    }
   ],
   "source": [
    "plt.hist(norm1)\n",
    "plt.axvline(x = mean1, color='green')\n",
    "plt.axvline(x = sd1 + mean1, color='purple')\n",
    "plt.axvline(x = mean1 - sd1, color='purple')"
   ]
  },
  {
   "cell_type": "code",
   "execution_count": 97,
   "metadata": {},
   "outputs": [
    {
     "name": "stdout",
     "output_type": "stream",
     "text": [
      "10.103658758379925 1.017236467315773\n"
     ]
    }
   ],
   "source": [
    "norm2 = np.random.normal(10, 1, 100)\n",
    "mean2 = np.mean(norm2)\n",
    "sd2 = np.std(norm2)\n",
    "print(mean2, sd2)"
   ]
  },
  {
   "cell_type": "code",
   "execution_count": 99,
   "metadata": {},
   "outputs": [
    {
     "data": {
      "text/plain": [
       "<matplotlib.lines.Line2D at 0x1189daba8>"
      ]
     },
     "execution_count": 99,
     "metadata": {},
     "output_type": "execute_result"
    },
    {
     "data": {
      "image/png": "[encoded data removed]",
      "text/plain": [
       "<Figure size 432x288 with 1 Axes>"
      ]
     },
     "metadata": {},
     "output_type": "display_data"
    }
   ],
   "source": [
    "plt.hist(norm2)\n",
    "plt.axvline(x = mean2, color='green')\n",
    "plt.axvline(x = sd2 + mean2, color='purple')\n",
    "plt.axvline(x = mean2 - sd2, color='purple')"
   ]
  },
  {
   "cell_type": "code",
   "execution_count": 100,
   "metadata": {},
   "outputs": [
    {
     "name": "stdout",
     "output_type": "stream",
     "text": [
      "15.073193430077975 1.0912596709203302\n"
     ]
    }
   ],
   "source": [
    "norm3 = norm1 + norm2\n",
    "mean3 = np.mean(norm3)\n",
    "sd3 = np.std(norm3)\n",
    "print(mean3, sd3)"
   ]
  },
  {
   "cell_type": "code",
   "execution_count": 101,
   "metadata": {},
   "outputs": [
    {
     "data": {
      "text/plain": [
       "<matplotlib.lines.Line2D at 0x118aaff28>"
      ]
     },
     "execution_count": 101,
     "metadata": {},
     "output_type": "execute_result"
    },
    {
     "data": {
      "image/png": "[encoded data removed]",
      "text/plain": [
       "<Figure size 432x288 with 1 Axes>"
      ]
     },
     "metadata": {},
     "output_type": "display_data"
    }
   ],
   "source": [
    "plt.hist(norm3)\n",
    "plt.axvline(x = mean3, color='green')\n",
    "plt.axvline(x = sd3 + mean3, color='purple')\n",
    "plt.axvline(x = mean3 - sd3, color='purple')"
   ]
  },
  {
   "cell_type": "markdown",
   "metadata": {},
   "source": [
    "The mean is the easiest to understand, if you have an equal amount of values with different means then the mean of their sums is the sum of their means. Standard deviation is more puzzling, as instead of it being between the two standard deviations it appears to be almost exactly the higher number. This I don't understand, I would expect it to be between the two values. Something to come back to."
   ]
  }
 ],
 "metadata": {
  "kernelspec": {
   "display_name": "Python 3",
   "language": "python",
   "name": "python3"
  },
  "language_info": {
   "codemirror_mode": {
    "name": "ipython",
    "version": 3
   },
   "file_extension": ".py",
   "mimetype": "text/x-python",
   "name": "python",
   "nbconvert_exporter": "python",
   "pygments_lexer": "ipython3",
   "version": "3.6.5"
  }
 },
 "nbformat": 4,
 "nbformat_minor": 2
}
