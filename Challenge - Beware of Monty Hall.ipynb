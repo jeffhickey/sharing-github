{
 "cells": [
  {
   "cell_type": "markdown",
   "metadata": {},
   "source": [
    "# Monty Hall"
   ]
  },
  {
   "cell_type": "markdown",
   "metadata": {},
   "source": [
    "I dug into this one while in uni, and actually think one of my first programs was to simulate the Monty Hall problem. Anyways the correct way to think about it is that your prob p equals 1 - prob of other outcomes P.\n",
    "p = 1 - P \n",
    "1/3 = 1 - (1/3 + 1/3)\n",
    "So all doors are equal, but by removing one option the probability of your door is still 1/3, however the probability of the others had been a total of 2/3, and when one was revealed then that probability collapsed to the other remaining door. Your probability is 1/3 if you stay, 2/3 if you switch. You should always switch (my intuition still hates it)."
   ]
  },
  {
   "cell_type": "code",
   "execution_count": null,
   "metadata": {},
   "outputs": [],
   "source": []
  }
 ],
 "metadata": {
  "kernelspec": {
   "display_name": "Python 3",
   "language": "python",
   "name": "python3"
  },
  "language_info": {
   "codemirror_mode": {
    "name": "ipython",
    "version": 3
   },
   "file_extension": ".py",
   "mimetype": "text/x-python",
   "name": "python",
   "nbconvert_exporter": "python",
   "pygments_lexer": "ipython3",
   "version": "3.6.5"
  }
 },
 "nbformat": 4,
 "nbformat_minor": 2
}
