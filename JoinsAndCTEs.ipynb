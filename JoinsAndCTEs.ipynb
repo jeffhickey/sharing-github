{
 "cells": [
  {
   "cell_type": "raw",
   "metadata": {},
   "source": [
    "-- What are the three longest trips on rainy days?\n",
    "\n",
    "WITH\n",
    "\tshort_date\n",
    "AS (\n",
    "SELECT\n",
    "\tsubstring(start_date from 1 for 10) short,\n",
    "\tduration,\n",
    "\ttrip_id\n",
    "FROM\n",
    "\ttrips)\n",
    "\n",
    "SELECT\n",
    "\tshort_date.short,\n",
    "\tshort_date.trip_id,\n",
    "\tshort_date.duration,\n",
    "\tweather.events,\n",
    "\tweather.date\n",
    "FROM\n",
    "\tshort_date\n",
    "JOIN\n",
    "\tweather\n",
    "ON\n",
    "\tshort_date.short = weather.date\n",
    "WHERE\n",
    "\tevents LIKE 'Rain'\n",
    "ORDER BY\n",
    "\tduration\n",
    "DESC\n",
    "LIMIT 3\n"
   ]
  },
  {
   "cell_type": "raw",
   "metadata": {},
   "source": [
    "-- Which station is full most often?\n",
    "\n",
    "SELECT\n",
    "\tstation_id,\n",
    "\tCOUNT(*)\n",
    "FROM\n",
    "\tstatus\n",
    "WHERE\n",
    "\tdocks_available = 0\n",
    "GROUP BY 1\n",
    "LIMIT 1\n",
    "\n"
   ]
  },
  {
   "cell_type": "raw",
   "metadata": {},
   "source": [
    "-- Return a list of stations with a count of number of trips starting at that station but ordered by dock count.\n",
    "\n",
    "SELECT\n",
    "\ttrips.start_station,\n",
    "\tstations.dockcount,\n",
    "\tCOUNT(*) AS tcount\n",
    "FROM\n",
    "\ttrips\n",
    "JOIN\n",
    "\tstations\n",
    "ON\n",
    "\tstations.name = trips.start_station\n",
    "GROUP BY 1,2\n",
    "ORDER BY\n",
    "\tdockcount\n",
    "DESC\n"
   ]
  }
 ],
 "metadata": {
  "kernelspec": {
   "display_name": "Python 3",
   "language": "python",
   "name": "python3"
  },
  "language_info": {
   "codemirror_mode": {
    "name": "ipython",
    "version": 3
   },
   "file_extension": ".py",
   "mimetype": "text/x-python",
   "name": "python",
   "nbconvert_exporter": "python",
   "pygments_lexer": "ipython3",
   "version": "3.6.5"
  }
 },
 "nbformat": 4,
 "nbformat_minor": 2
}
