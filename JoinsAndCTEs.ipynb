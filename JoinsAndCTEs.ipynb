{
 "cells": [
  {
   "cell_type": "raw",
   "metadata": {},
   "source": [
    "-- What are the three longest trips on rainy days?\n",
    "\n",
    "WITH dayoftrip AS (\n",
    "\tSELECT substring(start_date,0,11) AS date,\n",
    "\tduration,\n",
    "\tstart_station,\n",
    "\tend_station\n",
    "\tFROM trips)\n",
    "\t\n",
    "SELECT\n",
    "\tdayoftrip.date,\n",
    "\tdayoftrip.start_station,\n",
    "\tdayoftrip.end_station,\n",
    "\tdayoftrip.duration,\n",
    "\tweather.events\n",
    "FROM \n",
    "\tdayoftrip\n",
    "JOIN \n",
    "\tweather\n",
    "ON \n",
    "\tdayoftrip.date = weather.date\n",
    "WHERE\n",
    "\tevents LIKE 'Rain'\n",
    "ORDER BY \n",
    "\tduration\n",
    "DESC\n",
    "LIMIT 3;\n"
   ]
  },
  {
   "cell_type": "raw",
   "metadata": {},
   "source": [
    "-- Which station is full most often?\n",
    "\n",
    "SELECT\n",
    "\tstation_id,\n",
    "\tCOUNT(*)\n",
    "FROM\n",
    "\tstatus\n",
    "WHERE \n",
    "\tdocks_available = 0\n",
    "GROUP BY\n",
    "\tstation_id\n",
    "LIMIT 1;\n",
    "\n",
    "SELECT\n",
    "\tname\n",
    "FROM\n",
    "\tstations\n",
    "WHERE\n",
    "\tstation_id = 2;\n"
   ]
  },
  {
   "cell_type": "raw",
   "metadata": {},
   "source": [
    "-- Return a list of stations with a count of number of trips starting at that station but ordered by dock count.\n",
    "\n",
    "SELECT\n",
    "\ttrips.start_station,\n",
    "\tstations.dockcount,\n",
    "\tCOUNT(*)\n",
    "FROM\n",
    "\ttrips\n",
    "JOIN\n",
    "\tstations\n",
    "ON\n",
    "\ttrips.start_station = stations.name\n",
    "GROUP BY\n",
    "\ttrips.start_station, stations.dockcount\n",
    "ORDER BY\n",
    "\tstations.dockcount\n",
    "DESC\n",
    ";"
   ]
  },
  {
   "cell_type": "markdown",
   "metadata": {},
   "source": [
    "-- (Challenge) What's the length of the longest trip for each day it rains anywhere?\n",
    "\n",
    "WITH raindays AS (\n",
    "\tSELECT \n",
    "\t\tDATE(date) raindate,\n",
    "\t\tevents\n",
    "\tFROM weather\n",
    "\tWHERE events LIKE 'Rain'),\n",
    "\t\n",
    "raintrips AS (\n",
    "\tSELECT \n",
    "\t\tstart_station,\n",
    "\t\tend_station,\n",
    "\t\tduration,\n",
    "\t\tDATE(trips.start_date) rain_trip_date\n",
    "\tFROM trips\n",
    "\tJOIN raindays\n",
    "\tON raindays.raindate = DATE(trips.start_date)\n",
    "\tORDER BY duration DESC\n",
    "\t)\n",
    "\t\n",
    "SELECT \n",
    "\train_trip_date,\n",
    "\tMAX(duration) max_duration\n",
    "FROM raintrips\n",
    "GROUP BY rain_trip_date\n",
    "ORDER BY rain_trip_date\n",
    ";"
   ]
  }
 ],
 "metadata": {
  "kernelspec": {
   "display_name": "Python 3",
   "language": "python",
   "name": "python3"
  },
  "language_info": {
   "codemirror_mode": {
    "name": "ipython",
    "version": 3
   },
   "file_extension": ".py",
   "mimetype": "text/x-python",
   "name": "python",
   "nbconvert_exporter": "python",
   "pygments_lexer": "ipython3",
   "version": "3.6.5"
  }
 },
 "nbformat": 4,
 "nbformat_minor": 2
}
