{
 "cells": [
  {
   "cell_type": "markdown",
   "metadata": {},
   "source": [
    "# The research proposal"
   ]
  },
  {
   "cell_type": "markdown",
   "metadata": {},
   "source": [
    "## The Problem"
   ]
  },
  {
   "cell_type": "markdown",
   "metadata": {},
   "source": [
    "When people install the Happy Days Fitness Tracker app, they are asked to \"opt in\" to a data collection scheme where their level of physical activity data is automatically sent to the company for product research purposes. The company believes the app is very effective becasue after installing the app, the data show that people's activity levels rise steadily. We need to determine if by downloading the app people do increase their fitness activity."
   ]
  },
  {
   "cell_type": "markdown",
   "metadata": {},
   "source": [
    "## The potential solution - Hypothesis"
   ]
  },
  {
   "cell_type": "markdown",
   "metadata": {},
   "source": [
    "I expect that the fitness activity for the group with the app will be higher over the length of the study then the fitness activity for the control group that does not have the app. I'm considering a confidence interval of at least 95% a success."
   ]
  },
  {
   "cell_type": "markdown",
   "metadata": {},
   "source": [
    "## The method of testing the solution"
   ]
  },
  {
   "cell_type": "markdown",
   "metadata": {},
   "source": [
    "To determine if the difference is significant we would run a T-test to determine if the P-value is below .05 giving us 95%+ confidence that those opting-in do not have fitness activity equal to those who do not opt-in. A one-sided T-test should be used. "
   ]
  },
  {
   "cell_type": "markdown",
   "metadata": {},
   "source": [
    "We will be doing an A/B test, which is a technique used to identify whether one version of an object of interest is better at producing a desired outcome than another. In this case we want to determine if people who download the Happy Days Fitness Tracker app increase their fitness activity. To determine this our sample will be divided into two groups, half will download and half will not. At least 1,000 participants per group would be ideal. These groups will be assigned at random. During the period of the study both groups will be asked to take identical surveys, that will include fitness activity data identical as to what the app would provide, along with a myriad of non-fitness questions with the intention of masking what is actually being studied (prevent people from exaggerating their fitness if they knew that was the goal of the study). By having those with the app also take the survey allows us to see how much the self-reported data differs from the app generated data. This could be used to estimate how reliable the data for the control group is since they would only be self-reported."
   ]
  },
  {
   "cell_type": "markdown",
   "metadata": {},
   "source": [
    "The period of the study will be for 2 months, if after the study is over we can determine to a 95% confidence interval that the population with the app did have higher increase fitness activity then we will reject the null hypothesis and determine that the app does in fact increase fitness activity."
   ]
  },
  {
   "cell_type": "code",
   "execution_count": null,
   "metadata": {},
   "outputs": [],
   "source": []
  }
 ],
 "metadata": {
  "kernelspec": {
   "display_name": "Python 3",
   "language": "python",
   "name": "python3"
  },
  "language_info": {
   "codemirror_mode": {
    "name": "ipython",
    "version": 3
   },
   "file_extension": ".py",
   "mimetype": "text/x-python",
   "name": "python",
   "nbconvert_exporter": "python",
   "pygments_lexer": "ipython3",
   "version": "3.6.5"
  }
 },
 "nbformat": 4,
 "nbformat_minor": 2
}
