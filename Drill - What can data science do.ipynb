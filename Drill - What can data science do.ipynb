{
 "cells": [
  {
   "cell_type": "markdown",
   "metadata": {},
   "source": [
    "# 1"
   ]
  },
  {
   "cell_type": "markdown",
   "metadata": {},
   "source": [
    "To me the first thing that sticks out is conversion, activity and pageviews are great but the ultimate goal is revenue. Since you have cost and price, multpyling by conversions you can determine which item had the most profit. If this item also has the highest coversion from an ad of that product then this is absolutely the route I would recommend and that would be the ideal situation. If the item with the most ad coversions is not the item with the most profit I would want to investigate why that is the case. If one item has a margin so big that it can be the most profitable despite less conversion then I would default to most profitable item, but the why needs to be investigated."
   ]
  },
  {
   "cell_type": "markdown",
   "metadata": {},
   "source": [
    "## 2"
   ]
  },
  {
   "cell_type": "markdown",
   "metadata": {},
   "source": [
    "First I would want to know what has changed since signups slowed - at which step are we having less conversions then previously? Once this is identified it should be easier to identify next steps, i.e. have plan offerings changed and now people spend more time choosing and are more likely to not complete the process? If nothing has changed on the process and offerings then the next step is to explore if marketing spend has slowed or attempting a different strategy."
   ]
  },
  {
   "cell_type": "markdown",
   "metadata": {},
   "source": [
    "## 3"
   ]
  },
  {
   "cell_type": "markdown",
   "metadata": {},
   "source": [
    "I'm not sure what the question is asking. I have session information? What does this mean?"
   ]
  },
  {
   "cell_type": "markdown",
   "metadata": {},
   "source": [
    "## 4"
   ]
  },
  {
   "cell_type": "markdown",
   "metadata": {},
   "source": [
    "I would first determine churn rate on a monthly basis for the past 3 years and run a T-test to determine if the recent months actually have different rates or if it's within normal deviation. If it is, then I will do the same for length of sessions and see if I can identify a downward trend by testing the null hypothesis that nothing has changed."
   ]
  }
 ],
 "metadata": {
  "kernelspec": {
   "display_name": "Python 3",
   "language": "python",
   "name": "python3"
  },
  "language_info": {
   "codemirror_mode": {
    "name": "ipython",
    "version": 3
   },
   "file_extension": ".py",
   "mimetype": "text/x-python",
   "name": "python",
   "nbconvert_exporter": "python",
   "pygments_lexer": "ipython3",
   "version": "3.6.5"
  }
 },
 "nbformat": 4,
 "nbformat_minor": 2
}
