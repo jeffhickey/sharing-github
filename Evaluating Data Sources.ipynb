{
 "cells": [
  {
   "cell_type": "markdown",
   "metadata": {},
   "source": [
    "**Data Source:** Amsterdam availability data scraped from AirBnB on December 24th. **Question:** What are the popular neighborhoods in Amsterdam?"
   ]
  },
  {
   "cell_type": "markdown",
   "metadata": {},
   "source": [
    "The problem with this is immediately apparent, you're going to have data for a very specific day, being the day before Christmas. It's very sloppy to assume that the most popular neighborhoods on Christmas Eve will be a good sample for Amsterdam neighborhoods year around. I would recommend limiting analysis to specifically descrube Amsterdam on Christmas Eve."
   ]
  },
  {
   "cell_type": "markdown",
   "metadata": {},
   "source": [
    "**Data Source:** Mental health services on September 12, 2001 in San Francisco and New York... **Question:** How do patterns of mental health service use vary between cities?"
   ]
  },
  {
   "cell_type": "markdown",
   "metadata": {},
   "source": [
    "Immediately it's obvious that you will not be able to evaluate patterns of mental health services by a given day, especially if that day is *immediately after the biggest terrorist attack in that nations history **and one of the cities being evaulated was the main target!!*** With this data set you can evaluate one day and one day only, to infer patterns on general mental health service between those two cities based on the day after 9/11 is ridiculous."
   ]
  },
  {
   "cell_type": "markdown",
   "metadata": {},
   "source": [
    "**Data Source:** Armenian Pub Survey. **Question:** What are the most common reasons Armenians visit local pubs?"
   ]
  },
  {
   "cell_type": "markdown",
   "metadata": {},
   "source": [
    "After looking at the data there were an awful lot of students, going to the description it's clear that this was a university study, and it appears to only be students surveyed. This question shound be \"What are the most common reason students from The American University of Armenia to visit local pubs?\""
   ]
  },
  {
   "cell_type": "code",
   "execution_count": null,
   "metadata": {},
   "outputs": [],
   "source": []
  }
 ],
 "metadata": {
  "kernelspec": {
   "display_name": "Python 3",
   "language": "python",
   "name": "python3"
  },
  "language_info": {
   "codemirror_mode": {
    "name": "ipython",
    "version": 3
   },
   "file_extension": ".py",
   "mimetype": "text/x-python",
   "name": "python",
   "nbconvert_exporter": "python",
   "pygments_lexer": "ipython3",
   "version": "3.6.5"
  }
 },
 "nbformat": 4,
 "nbformat_minor": 2
}
